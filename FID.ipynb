{
 "cells": [
  {
   "cell_type": "code",
   "execution_count": 11,
   "metadata": {},
   "outputs": [],
   "source": [
    "import os\n",
    "from PIL import Image\n",
    "import torch\n",
    "from torchvision import transforms\n",
    "from torcheval.metrics import FrechetInceptionDistance"
   ]
  },
  {
   "cell_type": "code",
   "execution_count": 12,
   "metadata": {},
   "outputs": [],
   "source": [
    "# Function to load images from a folder, including images in subfolders\n",
    "def load_images_from_folder(folder):\n",
    "    images = []\n",
    "    for root, _, files in os.walk(folder):  # Traverse the directory including subdirectories\n",
    "        for filename in files:\n",
    "            if filename.endswith(\".png\"):\n",
    "                img_path = os.path.join(root, filename)\n",
    "                img = Image.open(img_path).convert('RGB')  # Open the image and convert to RGB\n",
    "                if img is not None:\n",
    "                    images.append(img)\n",
    "    return images"
   ]
  },
  {
   "cell_type": "code",
   "execution_count": 13,
   "metadata": {},
   "outputs": [],
   "source": [
    "# Load images from two pressure folders\n",
    "true_folder_p = [\"true_dir\"]\n",
    "fake_folder_p = [\"fake_dir\"]\n",
    "\n",
    "# Load images from two velocity folders\n",
    "true_folder_v = [\"true_dir\"]\n",
    "fake_folder_v = [\"fake_dir\"]\n",
    "\n",
    "# Check if CUDA is available and set the device\n",
    "device = torch.device(\"cuda:id\")"
   ]
  },
  {
   "cell_type": "code",
   "execution_count": 14,
   "metadata": {},
   "outputs": [
    {
     "name": "stdout",
     "output_type": "stream",
     "text": [
      "FID Score: tensor(9.9639, device='cuda:2')\n"
     ]
    }
   ],
   "source": [
    "images1_p = load_images_from_folder(true_folder_p)\n",
    "images2_p = load_images_from_folder(fake_folder_p)\n",
    "\n",
    "# Transform images to tensors\n",
    "transform = transforms.Compose([\n",
    "    transforms.Resize((256, 256)),\n",
    "    transforms.ToTensor()\n",
    "])\n",
    "\n",
    "images1_p = [transform(img).to(device) for img in images1_p]\n",
    "images2_p = [transform(img).to(device) for img in images2_p]\n",
    "\n",
    "# Initialize the FID metric and move to the device\n",
    "fid_metric = FrechetInceptionDistance().to(device)\n",
    "\n",
    "# Update the metric with images from the first folder (real images)\n",
    "for img in images1_p:\n",
    "    fid_metric.update(img.unsqueeze(0), is_real=True)\n",
    "\n",
    "# Update the metric with images from the second folder (generated images)\n",
    "for img in images2_p:\n",
    "    fid_metric.update(img.unsqueeze(0), is_real=False)\n",
    "\n",
    "# Compute the FID score\n",
    "fid_score_pressure = fid_metric.compute()\n",
    "print(\"FID Score:\", fid_score_pressure)"
   ]
  },
  {
   "cell_type": "code",
   "execution_count": 15,
   "metadata": {},
   "outputs": [
    {
     "ename": "NameError",
     "evalue": "name 'true_folder_v' is not defined",
     "output_type": "error",
     "traceback": [
      "\u001b[0;31m---------------------------------------------------------------------------\u001b[0m",
      "\u001b[0;31mNameError\u001b[0m                                 Traceback (most recent call last)",
      "Cell \u001b[0;32mIn[15], line 1\u001b[0m\n\u001b[0;32m----> 1\u001b[0m images1_v \u001b[38;5;241m=\u001b[39m load_images_from_folder(true_folder_v)\n\u001b[1;32m      2\u001b[0m images2_v \u001b[38;5;241m=\u001b[39m load_images_from_folder(fake_folder_v)\n\u001b[1;32m      4\u001b[0m \u001b[38;5;66;03m# Transform images to tensors\u001b[39;00m\n",
      "\u001b[0;31mNameError\u001b[0m: name 'true_folder_v' is not defined"
     ]
    }
   ],
   "source": [
    "images1_v = load_images_from_folder(true_folder_v)\n",
    "images2_v = load_images_from_folder(fake_folder_v)\n",
    "\n",
    "# Transform images to tensors\n",
    "transform = transforms.Compose([\n",
    "    transforms.Resize((256, 256)),\n",
    "    transforms.ToTensor()\n",
    "])\n",
    "\n",
    "images1_v = [transform(img).to(device) for img in images1_v]\n",
    "images2_v = [transform(img).to(device) for img in images2_v]\n",
    "\n",
    "# Initialize the FID metric and move to the device\n",
    "fid_metric = FrechetInceptionDistance().to(device)\n",
    "\n",
    "# Update the metric with images from the first folder (real images)\n",
    "for img in images1_v:\n",
    "    fid_metric.update(img.unsqueeze(0), is_real=True)\n",
    "\n",
    "# Update the metric with images from the second folder (generated images)\n",
    "for img in images2_v:\n",
    "    fid_metric.update(img.unsqueeze(0), is_real=False)\n",
    "\n",
    "# Compute the FID score\n",
    "fid_score_velocity = fid_metric.compute()\n",
    "print(\"FID Score:\", fid_score_velocity)"
   ]
  },
  {
   "cell_type": "code",
   "execution_count": null,
   "metadata": {},
   "outputs": [
    {
     "data": {
      "text/plain": [
       "tensor(16.9487, device='cuda:2')"
      ]
     },
     "execution_count": 12,
     "metadata": {},
     "output_type": "execute_result"
    }
   ],
   "source": [
    "avg_fid = (fid_score_pressure + fid_score_velocity) / 2\n",
    "avg_fid"
   ]
  }
 ],
 "metadata": {
  "kernelspec": {
   "display_name": "GANs",
   "language": "python",
   "name": "python3"
  },
  "language_info": {
   "codemirror_mode": {
    "name": "ipython",
    "version": 3
   },
   "file_extension": ".py",
   "mimetype": "text/x-python",
   "name": "python",
   "nbconvert_exporter": "python",
   "pygments_lexer": "ipython3",
   "version": "3.12.3"
  }
 },
 "nbformat": 4,
 "nbformat_minor": 2
}
